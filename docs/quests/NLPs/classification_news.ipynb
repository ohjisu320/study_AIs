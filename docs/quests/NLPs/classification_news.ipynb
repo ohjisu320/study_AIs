{
  "nbformat": 4,
  "nbformat_minor": 0,
  "metadata": {
    "colab": {
      "provenance": [],
      "authorship_tag": "ABX9TyNOmSir0PE5Xsv7CHu09ELH",
      "include_colab_link": true
    },
    "kernelspec": {
      "name": "python3",
      "display_name": "Python 3"
    },
    "language_info": {
      "name": "python"
    }
  },
  "cells": [
    {
      "cell_type": "markdown",
      "metadata": {
        "id": "view-in-github",
        "colab_type": "text"
      },
      "source": [
        "<a href=\"https://colab.research.google.com/github/ohjisu320/study_AIs/blob/main/docs/quests/NLPs/classification_news.ipynb\" target=\"_parent\"><img src=\"https://colab.research.google.com/assets/colab-badge.svg\" alt=\"Open In Colab\"/></a>"
      ]
    },
    {
      "cell_type": "markdown",
      "source": [
        "## 데이터"
      ],
      "metadata": {
        "id": "2WIVO55rtyi1"
      }
    },
    {
      "cell_type": "code",
      "source": [
        "import pandas as pd\n",
        "df_news = pd.read_excel('IT News.xlsx', sheet_name=None)\n",
        "\n"
      ],
      "metadata": {
        "id": "YpDpEJSAMZST"
      },
      "execution_count": 28,
      "outputs": []
    },
    {
      "cell_type": "code",
      "source": [
        "df_sheets = []\n",
        "for sheet_name, df in df_news.items() :\n",
        "  df_sheets.append(df)\n",
        "  print(f'{sheet_name}, {type(df)}')\n",
        "  pass\n",
        "\n",
        "len(df_sheets)"
      ],
      "metadata": {
        "colab": {
          "base_uri": "https://localhost:8080/"
        },
        "id": "bpVb98NwMkwM",
        "outputId": "8a538c45-c82f-4e27-a9dc-9f4c9efcf105"
      },
      "execution_count": 29,
      "outputs": [
        {
          "output_type": "stream",
          "name": "stdout",
          "text": [
            "2024-01-31, <class 'pandas.core.frame.DataFrame'>\n",
            "2024-01-30, <class 'pandas.core.frame.DataFrame'>\n",
            "2024-01-29, <class 'pandas.core.frame.DataFrame'>\n",
            "2024-01-26, <class 'pandas.core.frame.DataFrame'>\n",
            "2024-01-25, <class 'pandas.core.frame.DataFrame'>\n",
            "2024-01-24, <class 'pandas.core.frame.DataFrame'>\n",
            "2024-01-23, <class 'pandas.core.frame.DataFrame'>\n",
            "2024-01-22, <class 'pandas.core.frame.DataFrame'>\n",
            "2024-1-19, <class 'pandas.core.frame.DataFrame'>\n",
            "2024-1-18, <class 'pandas.core.frame.DataFrame'>\n",
            "2024-1-17, <class 'pandas.core.frame.DataFrame'>\n",
            "2024-1-16, <class 'pandas.core.frame.DataFrame'>\n",
            "2024-1-15, <class 'pandas.core.frame.DataFrame'>\n",
            "2024-1-12, <class 'pandas.core.frame.DataFrame'>\n",
            "2024-1-11, <class 'pandas.core.frame.DataFrame'>\n",
            "2024-1-10, <class 'pandas.core.frame.DataFrame'>\n",
            "2024-1-9, <class 'pandas.core.frame.DataFrame'>\n",
            "2024-1-8, <class 'pandas.core.frame.DataFrame'>\n",
            "2024-1-5, <class 'pandas.core.frame.DataFrame'>\n",
            "2024-1-4, <class 'pandas.core.frame.DataFrame'>\n",
            "2024-01-03, <class 'pandas.core.frame.DataFrame'>\n",
            "2024-1-2, <class 'pandas.core.frame.DataFrame'>\n",
            "2024-02-19, <class 'pandas.core.frame.DataFrame'>\n",
            "2024-02-16, <class 'pandas.core.frame.DataFrame'>\n",
            "2024-02-15, <class 'pandas.core.frame.DataFrame'>\n",
            "2024-02-14, <class 'pandas.core.frame.DataFrame'>\n",
            "2024-02-13, <class 'pandas.core.frame.DataFrame'>\n",
            "2024-02-07, <class 'pandas.core.frame.DataFrame'>\n",
            "2024-02-06, <class 'pandas.core.frame.DataFrame'>\n",
            "2024-02-05, <class 'pandas.core.frame.DataFrame'>\n",
            "2024-02-02, <class 'pandas.core.frame.DataFrame'>\n",
            "2024-02-01, <class 'pandas.core.frame.DataFrame'>\n",
            "2023-12-29, <class 'pandas.core.frame.DataFrame'>\n",
            "2023-12-28, <class 'pandas.core.frame.DataFrame'>\n",
            "2023-12-27, <class 'pandas.core.frame.DataFrame'>\n",
            "2023-12-26, <class 'pandas.core.frame.DataFrame'>\n",
            "2023-12-22, <class 'pandas.core.frame.DataFrame'>\n",
            "2023-12-21, <class 'pandas.core.frame.DataFrame'>\n",
            "2023-12-20, <class 'pandas.core.frame.DataFrame'>\n",
            "2023-12-19, <class 'pandas.core.frame.DataFrame'>\n",
            "2023-12-18, <class 'pandas.core.frame.DataFrame'>\n",
            "2023-12-15, <class 'pandas.core.frame.DataFrame'>\n",
            "Template, <class 'pandas.core.frame.DataFrame'>\n",
            "2023-12-14, <class 'pandas.core.frame.DataFrame'>\n",
            "2023-12-13, <class 'pandas.core.frame.DataFrame'>\n"
          ]
        },
        {
          "output_type": "execute_result",
          "data": {
            "text/plain": [
              "45"
            ]
          },
          "metadata": {},
          "execution_count": 29
        }
      ]
    },
    {
      "cell_type": "code",
      "source": [
        "df_sheets[0].columns[0]"
      ],
      "metadata": {
        "colab": {
          "base_uri": "https://localhost:8080/",
          "height": 35
        },
        "id": "T7WwJvPfPJrS",
        "outputId": "3f2d76d8-2398-43e1-84ce-df22a2f1a88c"
      },
      "execution_count": 30,
      "outputs": [
        {
          "output_type": "execute_result",
          "data": {
            "text/plain": [
              "'이름'"
            ],
            "application/vnd.google.colaboratory.intrinsic+json": {
              "type": "string"
            }
          },
          "metadata": {},
          "execution_count": 30
        }
      ]
    },
    {
      "cell_type": "code",
      "source": [
        "# 이름으로 컬럼이름 통일\n",
        "for x in df_sheets :\n",
        "  print(x.columns)\n",
        "  if x.columns[0] != '이름' :\n",
        "    x.rename(columns = {f'{x.columns[0]}':'이름'}, inplace=True)\n",
        "    pass"
      ],
      "metadata": {
        "colab": {
          "base_uri": "https://localhost:8080/"
        },
        "id": "BBVlA7b4OOI0",
        "outputId": "5dfde7fd-29da-4fe9-f873-aa9b6571da27"
      },
      "execution_count": 31,
      "outputs": [
        {
          "output_type": "stream",
          "name": "stdout",
          "text": [
            "Index(['이름', '선호도 투표', '뉴스명', '문장 요약', '한 줄평'], dtype='object')\n",
            "Index(['이름', '선호도 투표', '뉴스명', '문장 요약', '한 줄평'], dtype='object')\n",
            "Index(['이름', '선호도 투표', '뉴스명', '문장 요약', '한 줄평'], dtype='object')\n",
            "Index(['이름', '선호도 투표', '뉴스명', '문장 요약', '한 줄평'], dtype='object')\n",
            "Index(['ㅋ', '선호도 투표', '뉴스명', '문장 요약', '한 줄평'], dtype='object')\n",
            "Index(['이름', '선호도 투표', '뉴스명', '문장 요약', '한 줄평'], dtype='object')\n",
            "Index(['이름', '선호도 투표', '뉴스명', '문장 요약', '한 줄평'], dtype='object')\n",
            "Index(['이름', '선호도 투표', '뉴스명', '문장 요약', '한 줄평'], dtype='object')\n",
            "Index(['ㅋㅋㅋㅋㅋㅋㅋㅋㅋㅋ', '선호도 투표', '뉴스명', '문장 요약', '한 줄평'], dtype='object')\n",
            "Index(['이름', '선호도 투표', '뉴스명', '문장 요약', '한 줄평'], dtype='object')\n",
            "Index(['ㅋㅋㅋㅋㅋㅋㅋ', '선호도 투표', '뉴스명', '문장 요약', '한 줄평'], dtype='object')\n",
            "Index(['이름', '선호도 투표', '뉴스명', '문장 요약', '한 줄평'], dtype='object')\n",
            "Index(['이름', '선호도 투표', '뉴스명', '문장 요약', '한 줄평'], dtype='object')\n",
            "Index(['이름', '선호도 투표', '뉴스명', '문장 요약', '한 줄평'], dtype='object')\n",
            "Index(['이름', '선호도 투표', '뉴스명', '문장 요약', '한 줄평'], dtype='object')\n",
            "Index(['이름', '선호도 투표', '뉴스명', '문장 요약', '한 줄평'], dtype='object')\n",
            "Index(['ㅋㅋㅋㅋㅋㅋㅋㅋㅋㅋㅋ', '선호도 투표', '뉴스명', '문장 요약', '한 줄평'], dtype='object')\n",
            "Index(['이름', '선호도 투표', '뉴스명', '문장 요약', '한 줄평'], dtype='object')\n",
            "Index(['ㅋ', '선호도 투표', '뉴스명', '문장 요약', '한 줄평'], dtype='object')\n",
            "Index(['이름', '선호도 투표', '뉴스명', '문장 요약', '한 줄평'], dtype='object')\n",
            "Index(['이름', '선호도 투표', '뉴스명', '문장 요약', '한 줄평'], dtype='object')\n",
            "Index(['이름', '선호도 투표', '뉴스명', '문장 요약', '한 줄평'], dtype='object')\n",
            "Index(['이름', '선호도 투표', '뉴스명', '문장 요약', '한 줄평'], dtype='object')\n",
            "Index(['이름', '선호도 투표', '뉴스명', '문장 요약', '한 줄평'], dtype='object')\n",
            "Index(['이름', '선호도 투표', '뉴스명', '문장 요약', '한 줄평'], dtype='object')\n",
            "Index(['이름', '선호도 투표', '뉴스명', '문장 요약', '한 줄평'], dtype='object')\n",
            "Index(['이름', '선호도 투표', '뉴스명', '문장 요약', '한 줄평'], dtype='object')\n",
            "Index(['이름', '선호도 투표', '뉴스명', '문장 요약', '한 줄평'], dtype='object')\n",
            "Index(['이름', '선호도 투표', '뉴스명', '문장 요약', '한 줄평'], dtype='object')\n",
            "Index(['이름', '선호도 투표', '뉴스명', '문장 요약', '한 줄평'], dtype='object')\n",
            "Index(['이름', '선호도 투표', '뉴스명', '문장 요약', '한 줄평'], dtype='object')\n",
            "Index(['이름', '선호도 투표', '뉴스명', '문장 요약', '한 줄평'], dtype='object')\n",
            "Index(['이름', '선호도 투표', '뉴스명', '문장 요약', '한 줄평'], dtype='object')\n",
            "Index(['이름', '선호도 투표', '뉴스명', '문장 요약', '한 줄평'], dtype='object')\n",
            "Index(['이름', '선호도 투표', '뉴스명', '문장 요약', '한 줄평'], dtype='object')\n",
            "Index(['이름', '선호도 투표', '뉴스명', '문장 요약', '한 줄평'], dtype='object')\n",
            "Index(['이름', '선호도 투표', '뉴스명', '문장 요약', '한 줄평'], dtype='object')\n",
            "Index(['이름', '선호도 투표', '뉴스명', '문장 요약', '한 줄평'], dtype='object')\n",
            "Index(['이름', '선호도 투표', '뉴스명', '문장 요약', '한 줄평'], dtype='object')\n",
            "Index(['이름', '선호도 투표', '뉴스명', '문장 요약', '한 줄평'], dtype='object')\n",
            "Index(['이름', '선호도 투표', '뉴스명', '문장 요약', '한 줄평'], dtype='object')\n",
            "Index(['이름', '선호도 투표', '뉴스명', '문장 요약', '한 줄평'], dtype='object')\n",
            "Index(['이름', '선호도 투표', '뉴스명', '문장 요약', '한 줄평'], dtype='object')\n",
            "Index(['이름', '선호도 투표', '뉴스명', '문장 요약', '한 줄평'], dtype='object')\n",
            "Index(['이름', '선호도 투표', '뉴스명', '문장 요약', '한 줄평'], dtype='object')\n"
          ]
        }
      ]
    },
    {
      "cell_type": "code",
      "source": [
        "# 내가 작성한 뉴스명 기준\n",
        "# sentences = []\n",
        "# for sheet in df_sheets:\n",
        "#   try:\n",
        "#     sentences.append(sheet.query(\"이름=='오지수'\")['뉴스명'].dropna().values[0])\n",
        "#   except:\n",
        "#     pass\n",
        "#   pass\n",
        "# sentences\n",
        "\n",
        "\n",
        "# 전체 뉴스명 기준\n",
        "sentences = []\n",
        "for sheet in df_sheets:\n",
        "  try:\n",
        "    sentences.append(sheet['뉴스명'].dropna().values[0])\n",
        "  except:\n",
        "    pass\n",
        "  pass\n",
        "sentences ="
      ],
      "metadata": {
        "colab": {
          "base_uri": "https://localhost:8080/"
        },
        "id": "UKcd1_rPMmJz",
        "outputId": "a769b640-2681-4541-fbc0-7d53110a47cd"
      },
      "execution_count": 32,
      "outputs": [
        {
          "output_type": "execute_result",
          "data": {
            "text/plain": [
              "['개보위 \"맞춤형 광고 개인정보 처리 투명성 높인다\"',\n",
              " '정보공개청구, 이제 AI가 돕는다…내용요약·처리방향까지 ‘척척’',\n",
              " '테슬라, 해킹 대회서 또 뚫렸다',\n",
              " '돌봄로봇이 협심증으로 쓰러진 70대 입주민 신고해 구조',\n",
              " '브이캣, SSG닷컴에 ‘영상 및 배너 제작 AI 솔루션’ 공급',\n",
              " '스마트폰 AI 경쟁 신호탄 쏜 갤럭시…유료화 가능성은',\n",
              " \"韓 메타버스, 세계진출 vs 구조조정 '갈림길' [메타버스의 명암 中]\",\n",
              " 'KOSA , SW분야 근로자 역량 강화 프로그램 실시',\n",
              " '비트코인 시세 급락···한때 4만1000달러대 붕괴',\n",
              " '오늘은 패스',\n",
              " '플랫폼 강화 나선 위믹스...거버넌스 확보에 나이트크로우까지',\n",
              " \"韓, '가상자산' ETF도 갈라파고스 되나\",\n",
              " '부산경제 올해 블록체인으로 새 활력 기대',\n",
              " '금융위 “韓증권사, 비트코인 현물 ETF 중개 안돼”',\n",
              " \"美 SEC, '비트코인 현물 ETF' 마침내 승인\",\n",
              " '“이거 먹으면 배 안 고파, 게다가 저렴해”… MIT, 위(胃)에서 진동해 식욕 떨어뜨리는 다이어트 캡슐 개발',\n",
              " '비트코인, 2년 만에 4만7천 달러 돌파',\n",
              " '\"생성 AI, 3년 뒤 전통 마케팅 업무 30% 대신할 것\"',\n",
              " '게임사는 AI를 어떻게 활용할까',\n",
              " '국세청, 가상화폐 관련 위메이드에 537억 원 추징',\n",
              " '[CES 2024] SK하이닉스, AI 인프라 기술력 뽐낸다…CXL⋅CMS 등 전시',\n",
              " '\"AI 모니터링, 얼굴인식 솔루션까지\" 새해 보안업계 트렌드는?',\n",
              " 'https://www.dailian.co.kr/news/view/1329153/?sc=Naver',\n",
              " '국내 제약바이오, ‘저조한’ AI 신약 개발 경쟁력…해법은?',\n",
              " '[비상경제장관회의] 국가통합 바이오 빅데이터 4월 개시…감염병·재생의료 R&D 강화',\n",
              " '제약·바이오社 \"AI신약개발, 뭉쳐야 산다\"',\n",
              " '쓰리빅스, 바이오 빅데이터 분석 플랫폼 ‘3X-INSIGHTS’ 출시',\n",
              " \"유튜브에 밀려난 카카오톡, '국민앱' 탈환할 수 있을까 [IT+]\",\n",
              " '\"챗GPT 답변에 내정보 노출 안되게\"…정부, 데이터 사용기준 마련',\n",
              " '의료 혁신 드라이브거는 윤석열 정부… 디지털 헬스케어 본격화되나',\n",
              " '토마토 주스에 장내 세균 넣자 24시간 만에 궤멸',\n",
              " '50대가 20대 피부 돌아갔다, 마침내 밝혀진 ‘노화의 비밀’',\n",
              " 'NFT로 기부 챌린지… 1만5000명 돌파',\n",
              " '1호 STO 사업자 탄생…新 결제시장 열린다',\n",
              " '올해도, 내년에도 숨 가쁜 AI 시장…주목할 만한 키워드는?',\n",
              " '생성 AI로 \\'눈 건강\\' 꼼꼼 관리…\"데이터 윤리 과제 수북\"[미래on]',\n",
              " \"중동·일본' 블록체인 기회의 땅?…韓 IT기업들 러시\",\n",
              " \"애플 '비전 프로' 2월 출시說… 메타버스 침체 반전될까\",\n",
              " 'B tv \"AI로 콘텐츠 추천…드라마 속 상품도 곧바로 쇼핑\"',\n",
              " '하나증권, 토큰증권 시장 선점 본격 행보',\n",
              " 'AI 입힌 카카오톡, 대화 요약·말투 변경 기능 도입',\n",
              " '구글 9월까지 ‘제3자 쿠키’ 100% 차단한다, 매체 매출 감소 불가피',\n",
              " '\"웹 3.0 대중화 시대 앞당긴다\"…1800억 유치한 라인 넥스트',\n",
              " 'AI가 공무원 문서 작성·민원대응 돕는다…행정서비스에 AI 적용']"
            ]
          },
          "metadata": {},
          "execution_count": 32
        }
      ]
    },
    {
      "cell_type": "code",
      "source": [
        "!pip install konlpy"
      ],
      "metadata": {
        "colab": {
          "base_uri": "https://localhost:8080/"
        },
        "id": "RAYwwgL_Zczk",
        "outputId": "09757752-5497-4ef0-edcd-62a55302a2cd"
      },
      "execution_count": 33,
      "outputs": [
        {
          "output_type": "stream",
          "name": "stdout",
          "text": [
            "Requirement already satisfied: konlpy in /usr/local/lib/python3.10/dist-packages (0.6.0)\n",
            "Requirement already satisfied: JPype1>=0.7.0 in /usr/local/lib/python3.10/dist-packages (from konlpy) (1.5.0)\n",
            "Requirement already satisfied: lxml>=4.1.0 in /usr/local/lib/python3.10/dist-packages (from konlpy) (4.9.4)\n",
            "Requirement already satisfied: numpy>=1.6 in /usr/local/lib/python3.10/dist-packages (from konlpy) (1.25.2)\n",
            "Requirement already satisfied: packaging in /usr/local/lib/python3.10/dist-packages (from JPype1>=0.7.0->konlpy) (23.2)\n"
          ]
        }
      ]
    },
    {
      "cell_type": "code",
      "execution_count": 34,
      "metadata": {
        "id": "N-kE7IGd-_QD"
      },
      "outputs": [],
      "source": [
        "# Okt 사용\n",
        "from konlpy.tag import Okt\n",
        "okt = Okt()"
      ]
    },
    {
      "cell_type": "code",
      "execution_count": 95,
      "metadata": {
        "id": "XPORtJiWAzPN"
      },
      "outputs": [],
      "source": [
        "# 조사, 어미, 구두점 제거\n",
        "import re\n",
        "def okt_clean(sentences):\n",
        "  sentence_list = []\n",
        "  for sentence in sentences :\n",
        "    clean_text = []\n",
        "    for word in okt.pos(sentence, stem=True):\n",
        "        if word[1] not in ['Josa', 'Eomi', 'Punctuation','URL']:\n",
        "            clean_text.append(word[0])\n",
        "            pass\n",
        "    sentence_list.append(\" \".join(clean_text))\n",
        "  return sentence_list"
      ]
    },
    {
      "cell_type": "code",
      "source": [
        "sentences_list = okt_clean(sentences)\n",
        "sentences_list"
      ],
      "metadata": {
        "colab": {
          "base_uri": "https://localhost:8080/"
        },
        "id": "9_jGdmL0v3W1",
        "outputId": "08ad6c71-d26a-4d80-e198-379a32f2ca81"
      },
      "execution_count": 96,
      "outputs": [
        {
          "output_type": "execute_result",
          "data": {
            "text/plain": [
              "['개 보위 맞춤 형 광고 개인정보 처리 투명 성 높이다',\n",
              " '정보공개 청구 이제 AI 가다 돕다 내용 요약 처리 방향 ‘ 척척',\n",
              " '테슬라 해킹 대회 또 뚫리다',\n",
              " '돌보다 로봇 협심증 쓰러지다 70 대다 입 주민 신고 하다 구조',\n",
              " '브이 캣 SSG 닷 컴 ‘ 영상 및 배너 제작 AI 솔루션 공급',\n",
              " '스마트폰 AI 경쟁 신호탄 쏘다 갤럭시 유료 화 가능성',\n",
              " '韓 메타 버스 세계 진출 vs 구조조정 갈림길 메타 버스 명암 中',\n",
              " 'KOSA SW 분야 근로자 역량 강화 프로그램 실시',\n",
              " '비트코인 시세 급락 한때 4만 1000달러 대 붕괴',\n",
              " '오늘 패스',\n",
              " '플랫폼 강화 나선 위 믹스 거버넌스 확보 나이트 크로우',\n",
              " '韓 가상 자산 ETF 도 갈라파고스 되다',\n",
              " '부산 경제 올해 블록 체인 새 활 력 기대',\n",
              " '금융위 “韓 증권사 비트코인 현물 ETF 중개 안 돼다 ”',\n",
              " '美 SEC 비트코인 현물 ETF 마침내 승인',\n",
              " '“ 이 거 먹다 배 안 고프다 게다가 저렴하다 ” MIT 위 胃 진동 하다 식욕 떨어뜨리다 다이어트 캡슐 개발',\n",
              " '비트코인 2년 4만 7천 달러 돌파',\n",
              " '생 성 AI 3년 뒤 전통 마케팅 업무 30% 대신 하다 것',\n",
              " '게임 살다 AI 를 어떻다 활용 하다',\n",
              " '국세청 가상 화폐 관련 위메이드 537억 원 추징',\n",
              " 'CES 2024 SK 하이닉스 AI 인프라 기술 력 뽐내다 CXL ⋅ CMS 등 전시',\n",
              " 'AI 모니터링 얼굴인식 솔루션 새해 보안 업계 트렌드',\n",
              " '',\n",
              " '국내 제약 바이오 ‘ 저조하다 AI 신약 개발 경쟁력 해법',\n",
              " '비상 경제 장관 회의 국가 통합 바이오 빅데이터 4월 개시 감염병 재생 의료 R D 강화',\n",
              " '제약 바이오 社 AI 신약 개발 뭉치다 산다',\n",
              " '쓰리다 빅스 바이오 빅데이터 분석 플랫폼 ‘ 3 X INSIGHTS 출시',\n",
              " '유튜브 밀리다 카카오 톡 국민 앱 탈환 하다 수 있다 IT',\n",
              " '챗 GPT 답변 내 정보 노출 안되다 정부 데이터 사용 기준 마련',\n",
              " '의료 혁신 드라이브 거 윤석열 정부 디지털 헬 스케 어 본격 화 되다',\n",
              " '토마토 주스 장내 세균 넣다 24시간 궤멸',\n",
              " '50 대가 20 대다 피부 돌아가다 마침내 밝혀지다 ‘ 노화 비밀',\n",
              " 'NFT 로 기부 채다 린지 1만 5000 명 돌파',\n",
              " '1 호 STO 사업자 탄생 新 결제 시장 열 린다',\n",
              " '올해 내년 숨 가쁜 AI 시장 주목 하다 만 키우다 들다',\n",
              " '생 성 AI 로 눈 건강 꼼꼼 관리 데이터 윤리 과제 수 북 미래 on',\n",
              " '중동 일본 블록 체인 기회 땅 韓 IT 기업 들 러시',\n",
              " '애플 비다 프로 2월 출시 說 메타 버스 침체 반전 되다',\n",
              " 'B tv AI 로 콘텐츠 추천 드라마 속 상품 곧바로 쇼핑',\n",
              " '하나 증권 토큰 증권 시장 선점 본격 행보',\n",
              " 'AI 입히다 카카오 톡 대화 요약 말투 변경 기능 도입',\n",
              " '구글 9월 까지 ‘ 제 3 자 쿠키 100% 차단 하다 매체 매출 감소 불가피',\n",
              " '웹 3.0 대중화 시대 앞당기다 1800억 유치하다 라인 넥스트',\n",
              " 'AI 가다 공무원 문서 작성 민원 대응 돕다 행정 서비스 AI 적용']"
            ]
          },
          "metadata": {},
          "execution_count": 96
        }
      ]
    },
    {
      "cell_type": "markdown",
      "source": [
        "## 모델"
      ],
      "metadata": {
        "id": "SdjK5ZExxuAV"
      }
    },
    {
      "cell_type": "code",
      "execution_count": 97,
      "metadata": {
        "id": "jp41BCGML5aR"
      },
      "outputs": [],
      "source": [
        "file_path = 'tfidfVectorizer.pkl'\n",
        "\n",
        "import pickle\n",
        "with open(file_path, 'rb') as pickle_file:\n",
        "  loaded_model_vector = pickle.load(pickle_file)"
      ]
    },
    {
      "cell_type": "code",
      "source": [
        "# Tokenizing\n",
        "sentence_tokens = loaded_model_vector.transform(sentences_list) # 학습 형식 그대로 이용\n",
        "sentence_tokens"
      ],
      "metadata": {
        "colab": {
          "base_uri": "https://localhost:8080/"
        },
        "id": "6jRz-L_zc__s",
        "outputId": "32a47a90-07d4-4cb3-de19-14e65afd193a"
      },
      "execution_count": 98,
      "outputs": [
        {
          "output_type": "execute_result",
          "data": {
            "text/plain": [
              "<44x27288 sparse matrix of type '<class 'numpy.float64'>'\n",
              "\twith 306 stored elements in Compressed Sparse Row format>"
            ]
          },
          "metadata": {},
          "execution_count": 98
        }
      ]
    },
    {
      "cell_type": "code",
      "source": [
        "file_path = 'NLP_classfication_ynanewstitles.pkl'\n",
        "\n",
        "import pickle\n",
        "with open(file_path, 'rb') as pickle_file:\n",
        "  loaded_model_cate = pickle.load(pickle_file)"
      ],
      "metadata": {
        "id": "SolLtuFYa8FF"
      },
      "execution_count": 99,
      "outputs": []
    },
    {
      "cell_type": "code",
      "source": [
        "# 예측\n",
        "predict_cate = loaded_model_cate.predict(sentence_tokens.toarray())\n",
        "predict_cate"
      ],
      "metadata": {
        "colab": {
          "base_uri": "https://localhost:8080/"
        },
        "id": "g-rw2auEVSul",
        "outputId": "46d6b25a-7c00-44a0-b2b9-a6102e8067a0"
      },
      "execution_count": 100,
      "outputs": [
        {
          "output_type": "execute_result",
          "data": {
            "text/plain": [
              "array([2., 0., 0., 0., 0., 0., 1., 2., 4., 2., 2., 1., 3., 1., 2., 0., 1.,\n",
              "       0., 0., 1., 0., 0., 2., 0., 4., 0., 0., 0., 6., 6., 2., 2., 2., 1.,\n",
              "       0., 0., 4., 0., 0., 1., 0., 0., 2., 0.])"
            ]
          },
          "metadata": {},
          "execution_count": 100
        }
      ]
    },
    {
      "cell_type": "code",
      "source": [
        "df_topic = pd.read_csv('topic_dict.csv')\n",
        "df_topic"
      ],
      "metadata": {
        "colab": {
          "base_uri": "https://localhost:8080/",
          "height": 269
        },
        "id": "27jPffW0VfYd",
        "outputId": "004c0c03-b5c5-48c6-8394-b2a0034ced01"
      },
      "execution_count": 101,
      "outputs": [
        {
          "output_type": "execute_result",
          "data": {
            "text/plain": [
              "  topic  topic_idx\n",
              "0  IT과학          0\n",
              "1    경제          1\n",
              "2    사회          2\n",
              "3  생활문화          3\n",
              "4    세계          4\n",
              "5   스포츠          5\n",
              "6    정치          6"
            ],
            "text/html": [
              "\n",
              "  <div id=\"df-da22cbf4-2c7b-43b4-9adb-2a2bc8570335\" class=\"colab-df-container\">\n",
              "    <div>\n",
              "<style scoped>\n",
              "    .dataframe tbody tr th:only-of-type {\n",
              "        vertical-align: middle;\n",
              "    }\n",
              "\n",
              "    .dataframe tbody tr th {\n",
              "        vertical-align: top;\n",
              "    }\n",
              "\n",
              "    .dataframe thead th {\n",
              "        text-align: right;\n",
              "    }\n",
              "</style>\n",
              "<table border=\"1\" class=\"dataframe\">\n",
              "  <thead>\n",
              "    <tr style=\"text-align: right;\">\n",
              "      <th></th>\n",
              "      <th>topic</th>\n",
              "      <th>topic_idx</th>\n",
              "    </tr>\n",
              "  </thead>\n",
              "  <tbody>\n",
              "    <tr>\n",
              "      <th>0</th>\n",
              "      <td>IT과학</td>\n",
              "      <td>0</td>\n",
              "    </tr>\n",
              "    <tr>\n",
              "      <th>1</th>\n",
              "      <td>경제</td>\n",
              "      <td>1</td>\n",
              "    </tr>\n",
              "    <tr>\n",
              "      <th>2</th>\n",
              "      <td>사회</td>\n",
              "      <td>2</td>\n",
              "    </tr>\n",
              "    <tr>\n",
              "      <th>3</th>\n",
              "      <td>생활문화</td>\n",
              "      <td>3</td>\n",
              "    </tr>\n",
              "    <tr>\n",
              "      <th>4</th>\n",
              "      <td>세계</td>\n",
              "      <td>4</td>\n",
              "    </tr>\n",
              "    <tr>\n",
              "      <th>5</th>\n",
              "      <td>스포츠</td>\n",
              "      <td>5</td>\n",
              "    </tr>\n",
              "    <tr>\n",
              "      <th>6</th>\n",
              "      <td>정치</td>\n",
              "      <td>6</td>\n",
              "    </tr>\n",
              "  </tbody>\n",
              "</table>\n",
              "</div>\n",
              "    <div class=\"colab-df-buttons\">\n",
              "\n",
              "  <div class=\"colab-df-container\">\n",
              "    <button class=\"colab-df-convert\" onclick=\"convertToInteractive('df-da22cbf4-2c7b-43b4-9adb-2a2bc8570335')\"\n",
              "            title=\"Convert this dataframe to an interactive table.\"\n",
              "            style=\"display:none;\">\n",
              "\n",
              "  <svg xmlns=\"http://www.w3.org/2000/svg\" height=\"24px\" viewBox=\"0 -960 960 960\">\n",
              "    <path d=\"M120-120v-720h720v720H120Zm60-500h600v-160H180v160Zm220 220h160v-160H400v160Zm0 220h160v-160H400v160ZM180-400h160v-160H180v160Zm440 0h160v-160H620v160ZM180-180h160v-160H180v160Zm440 0h160v-160H620v160Z\"/>\n",
              "  </svg>\n",
              "    </button>\n",
              "\n",
              "  <style>\n",
              "    .colab-df-container {\n",
              "      display:flex;\n",
              "      gap: 12px;\n",
              "    }\n",
              "\n",
              "    .colab-df-convert {\n",
              "      background-color: #E8F0FE;\n",
              "      border: none;\n",
              "      border-radius: 50%;\n",
              "      cursor: pointer;\n",
              "      display: none;\n",
              "      fill: #1967D2;\n",
              "      height: 32px;\n",
              "      padding: 0 0 0 0;\n",
              "      width: 32px;\n",
              "    }\n",
              "\n",
              "    .colab-df-convert:hover {\n",
              "      background-color: #E2EBFA;\n",
              "      box-shadow: 0px 1px 2px rgba(60, 64, 67, 0.3), 0px 1px 3px 1px rgba(60, 64, 67, 0.15);\n",
              "      fill: #174EA6;\n",
              "    }\n",
              "\n",
              "    .colab-df-buttons div {\n",
              "      margin-bottom: 4px;\n",
              "    }\n",
              "\n",
              "    [theme=dark] .colab-df-convert {\n",
              "      background-color: #3B4455;\n",
              "      fill: #D2E3FC;\n",
              "    }\n",
              "\n",
              "    [theme=dark] .colab-df-convert:hover {\n",
              "      background-color: #434B5C;\n",
              "      box-shadow: 0px 1px 3px 1px rgba(0, 0, 0, 0.15);\n",
              "      filter: drop-shadow(0px 1px 2px rgba(0, 0, 0, 0.3));\n",
              "      fill: #FFFFFF;\n",
              "    }\n",
              "  </style>\n",
              "\n",
              "    <script>\n",
              "      const buttonEl =\n",
              "        document.querySelector('#df-da22cbf4-2c7b-43b4-9adb-2a2bc8570335 button.colab-df-convert');\n",
              "      buttonEl.style.display =\n",
              "        google.colab.kernel.accessAllowed ? 'block' : 'none';\n",
              "\n",
              "      async function convertToInteractive(key) {\n",
              "        const element = document.querySelector('#df-da22cbf4-2c7b-43b4-9adb-2a2bc8570335');\n",
              "        const dataTable =\n",
              "          await google.colab.kernel.invokeFunction('convertToInteractive',\n",
              "                                                    [key], {});\n",
              "        if (!dataTable) return;\n",
              "\n",
              "        const docLinkHtml = 'Like what you see? Visit the ' +\n",
              "          '<a target=\"_blank\" href=https://colab.research.google.com/notebooks/data_table.ipynb>data table notebook</a>'\n",
              "          + ' to learn more about interactive tables.';\n",
              "        element.innerHTML = '';\n",
              "        dataTable['output_type'] = 'display_data';\n",
              "        await google.colab.output.renderOutput(dataTable, element);\n",
              "        const docLink = document.createElement('div');\n",
              "        docLink.innerHTML = docLinkHtml;\n",
              "        element.appendChild(docLink);\n",
              "      }\n",
              "    </script>\n",
              "  </div>\n",
              "\n",
              "\n",
              "<div id=\"df-0bc7ae85-ad4b-4053-b911-51585c9fc81f\">\n",
              "  <button class=\"colab-df-quickchart\" onclick=\"quickchart('df-0bc7ae85-ad4b-4053-b911-51585c9fc81f')\"\n",
              "            title=\"Suggest charts\"\n",
              "            style=\"display:none;\">\n",
              "\n",
              "<svg xmlns=\"http://www.w3.org/2000/svg\" height=\"24px\"viewBox=\"0 0 24 24\"\n",
              "     width=\"24px\">\n",
              "    <g>\n",
              "        <path d=\"M19 3H5c-1.1 0-2 .9-2 2v14c0 1.1.9 2 2 2h14c1.1 0 2-.9 2-2V5c0-1.1-.9-2-2-2zM9 17H7v-7h2v7zm4 0h-2V7h2v10zm4 0h-2v-4h2v4z\"/>\n",
              "    </g>\n",
              "</svg>\n",
              "  </button>\n",
              "\n",
              "<style>\n",
              "  .colab-df-quickchart {\n",
              "      --bg-color: #E8F0FE;\n",
              "      --fill-color: #1967D2;\n",
              "      --hover-bg-color: #E2EBFA;\n",
              "      --hover-fill-color: #174EA6;\n",
              "      --disabled-fill-color: #AAA;\n",
              "      --disabled-bg-color: #DDD;\n",
              "  }\n",
              "\n",
              "  [theme=dark] .colab-df-quickchart {\n",
              "      --bg-color: #3B4455;\n",
              "      --fill-color: #D2E3FC;\n",
              "      --hover-bg-color: #434B5C;\n",
              "      --hover-fill-color: #FFFFFF;\n",
              "      --disabled-bg-color: #3B4455;\n",
              "      --disabled-fill-color: #666;\n",
              "  }\n",
              "\n",
              "  .colab-df-quickchart {\n",
              "    background-color: var(--bg-color);\n",
              "    border: none;\n",
              "    border-radius: 50%;\n",
              "    cursor: pointer;\n",
              "    display: none;\n",
              "    fill: var(--fill-color);\n",
              "    height: 32px;\n",
              "    padding: 0;\n",
              "    width: 32px;\n",
              "  }\n",
              "\n",
              "  .colab-df-quickchart:hover {\n",
              "    background-color: var(--hover-bg-color);\n",
              "    box-shadow: 0 1px 2px rgba(60, 64, 67, 0.3), 0 1px 3px 1px rgba(60, 64, 67, 0.15);\n",
              "    fill: var(--button-hover-fill-color);\n",
              "  }\n",
              "\n",
              "  .colab-df-quickchart-complete:disabled,\n",
              "  .colab-df-quickchart-complete:disabled:hover {\n",
              "    background-color: var(--disabled-bg-color);\n",
              "    fill: var(--disabled-fill-color);\n",
              "    box-shadow: none;\n",
              "  }\n",
              "\n",
              "  .colab-df-spinner {\n",
              "    border: 2px solid var(--fill-color);\n",
              "    border-color: transparent;\n",
              "    border-bottom-color: var(--fill-color);\n",
              "    animation:\n",
              "      spin 1s steps(1) infinite;\n",
              "  }\n",
              "\n",
              "  @keyframes spin {\n",
              "    0% {\n",
              "      border-color: transparent;\n",
              "      border-bottom-color: var(--fill-color);\n",
              "      border-left-color: var(--fill-color);\n",
              "    }\n",
              "    20% {\n",
              "      border-color: transparent;\n",
              "      border-left-color: var(--fill-color);\n",
              "      border-top-color: var(--fill-color);\n",
              "    }\n",
              "    30% {\n",
              "      border-color: transparent;\n",
              "      border-left-color: var(--fill-color);\n",
              "      border-top-color: var(--fill-color);\n",
              "      border-right-color: var(--fill-color);\n",
              "    }\n",
              "    40% {\n",
              "      border-color: transparent;\n",
              "      border-right-color: var(--fill-color);\n",
              "      border-top-color: var(--fill-color);\n",
              "    }\n",
              "    60% {\n",
              "      border-color: transparent;\n",
              "      border-right-color: var(--fill-color);\n",
              "    }\n",
              "    80% {\n",
              "      border-color: transparent;\n",
              "      border-right-color: var(--fill-color);\n",
              "      border-bottom-color: var(--fill-color);\n",
              "    }\n",
              "    90% {\n",
              "      border-color: transparent;\n",
              "      border-bottom-color: var(--fill-color);\n",
              "    }\n",
              "  }\n",
              "</style>\n",
              "\n",
              "  <script>\n",
              "    async function quickchart(key) {\n",
              "      const quickchartButtonEl =\n",
              "        document.querySelector('#' + key + ' button');\n",
              "      quickchartButtonEl.disabled = true;  // To prevent multiple clicks.\n",
              "      quickchartButtonEl.classList.add('colab-df-spinner');\n",
              "      try {\n",
              "        const charts = await google.colab.kernel.invokeFunction(\n",
              "            'suggestCharts', [key], {});\n",
              "      } catch (error) {\n",
              "        console.error('Error during call to suggestCharts:', error);\n",
              "      }\n",
              "      quickchartButtonEl.classList.remove('colab-df-spinner');\n",
              "      quickchartButtonEl.classList.add('colab-df-quickchart-complete');\n",
              "    }\n",
              "    (() => {\n",
              "      let quickchartButtonEl =\n",
              "        document.querySelector('#df-0bc7ae85-ad4b-4053-b911-51585c9fc81f button');\n",
              "      quickchartButtonEl.style.display =\n",
              "        google.colab.kernel.accessAllowed ? 'block' : 'none';\n",
              "    })();\n",
              "  </script>\n",
              "</div>\n",
              "\n",
              "  <div id=\"id_cf8b9fc4-001f-402b-9f5a-aed7051e82fc\">\n",
              "    <style>\n",
              "      .colab-df-generate {\n",
              "        background-color: #E8F0FE;\n",
              "        border: none;\n",
              "        border-radius: 50%;\n",
              "        cursor: pointer;\n",
              "        display: none;\n",
              "        fill: #1967D2;\n",
              "        height: 32px;\n",
              "        padding: 0 0 0 0;\n",
              "        width: 32px;\n",
              "      }\n",
              "\n",
              "      .colab-df-generate:hover {\n",
              "        background-color: #E2EBFA;\n",
              "        box-shadow: 0px 1px 2px rgba(60, 64, 67, 0.3), 0px 1px 3px 1px rgba(60, 64, 67, 0.15);\n",
              "        fill: #174EA6;\n",
              "      }\n",
              "\n",
              "      [theme=dark] .colab-df-generate {\n",
              "        background-color: #3B4455;\n",
              "        fill: #D2E3FC;\n",
              "      }\n",
              "\n",
              "      [theme=dark] .colab-df-generate:hover {\n",
              "        background-color: #434B5C;\n",
              "        box-shadow: 0px 1px 3px 1px rgba(0, 0, 0, 0.15);\n",
              "        filter: drop-shadow(0px 1px 2px rgba(0, 0, 0, 0.3));\n",
              "        fill: #FFFFFF;\n",
              "      }\n",
              "    </style>\n",
              "    <button class=\"colab-df-generate\" onclick=\"generateWithVariable('df_topic')\"\n",
              "            title=\"Generate code using this dataframe.\"\n",
              "            style=\"display:none;\">\n",
              "\n",
              "  <svg xmlns=\"http://www.w3.org/2000/svg\" height=\"24px\"viewBox=\"0 0 24 24\"\n",
              "       width=\"24px\">\n",
              "    <path d=\"M7,19H8.4L18.45,9,17,7.55,7,17.6ZM5,21V16.75L18.45,3.32a2,2,0,0,1,2.83,0l1.4,1.43a1.91,1.91,0,0,1,.58,1.4,1.91,1.91,0,0,1-.58,1.4L9.25,21ZM18.45,9,17,7.55Zm-12,3A5.31,5.31,0,0,0,4.9,8.1,5.31,5.31,0,0,0,1,6.5,5.31,5.31,0,0,0,4.9,4.9,5.31,5.31,0,0,0,6.5,1,5.31,5.31,0,0,0,8.1,4.9,5.31,5.31,0,0,0,12,6.5,5.46,5.46,0,0,0,6.5,12Z\"/>\n",
              "  </svg>\n",
              "    </button>\n",
              "    <script>\n",
              "      (() => {\n",
              "      const buttonEl =\n",
              "        document.querySelector('#id_cf8b9fc4-001f-402b-9f5a-aed7051e82fc button.colab-df-generate');\n",
              "      buttonEl.style.display =\n",
              "        google.colab.kernel.accessAllowed ? 'block' : 'none';\n",
              "\n",
              "      buttonEl.onclick = () => {\n",
              "        google.colab.notebook.generateWithVariable('df_topic');\n",
              "      }\n",
              "      })();\n",
              "    </script>\n",
              "  </div>\n",
              "\n",
              "    </div>\n",
              "  </div>\n"
            ],
            "application/vnd.google.colaboratory.intrinsic+json": {
              "type": "dataframe",
              "variable_name": "df_topic",
              "summary": "{\n  \"name\": \"df_topic\",\n  \"rows\": 7,\n  \"fields\": [\n    {\n      \"column\": \"topic\",\n      \"properties\": {\n        \"dtype\": \"string\",\n        \"samples\": [\n          \"IT\\uacfc\\ud559\",\n          \"\\uacbd\\uc81c\",\n          \"\\uc2a4\\ud3ec\\uce20\"\n        ],\n        \"num_unique_values\": 7,\n        \"semantic_type\": \"\",\n        \"description\": \"\"\n      }\n    },\n    {\n      \"column\": \"topic_idx\",\n      \"properties\": {\n        \"dtype\": \"number\",\n        \"std\": 2,\n        \"min\": 0,\n        \"max\": 6,\n        \"samples\": [\n          0,\n          1,\n          5\n        ],\n        \"num_unique_values\": 7,\n        \"semantic_type\": \"\",\n        \"description\": \"\"\n      }\n    }\n  ]\n}"
            }
          },
          "metadata": {},
          "execution_count": 101
        }
      ]
    },
    {
      "cell_type": "code",
      "source": [
        "predict_topic = []\n",
        "for x in predict_cate :\n",
        "  topic = df_topic.query(f\"topic_idx=={x}\")['topic'].values[0]\n",
        "  predict_topic.append(topic)\n",
        "predict_topic"
      ],
      "metadata": {
        "colab": {
          "base_uri": "https://localhost:8080/"
        },
        "id": "z4Rt9Bi7VlY8",
        "outputId": "6295ed54-d408-49ca-9380-2bf7081115b0"
      },
      "execution_count": 102,
      "outputs": [
        {
          "output_type": "execute_result",
          "data": {
            "text/plain": [
              "['사회',\n",
              " 'IT과학',\n",
              " 'IT과학',\n",
              " 'IT과학',\n",
              " 'IT과학',\n",
              " 'IT과학',\n",
              " '경제',\n",
              " '사회',\n",
              " '세계',\n",
              " '사회',\n",
              " '사회',\n",
              " '경제',\n",
              " '생활문화',\n",
              " '경제',\n",
              " '사회',\n",
              " 'IT과학',\n",
              " '경제',\n",
              " 'IT과학',\n",
              " 'IT과학',\n",
              " '경제',\n",
              " 'IT과학',\n",
              " 'IT과학',\n",
              " '사회',\n",
              " 'IT과학',\n",
              " '세계',\n",
              " 'IT과학',\n",
              " 'IT과학',\n",
              " 'IT과학',\n",
              " '정치',\n",
              " '정치',\n",
              " '사회',\n",
              " '사회',\n",
              " '사회',\n",
              " '경제',\n",
              " 'IT과학',\n",
              " 'IT과학',\n",
              " '세계',\n",
              " 'IT과학',\n",
              " 'IT과학',\n",
              " '경제',\n",
              " 'IT과학',\n",
              " 'IT과학',\n",
              " '사회',\n",
              " 'IT과학']"
            ]
          },
          "metadata": {},
          "execution_count": 102
        }
      ]
    },
    {
      "cell_type": "code",
      "source": [
        "# !apt-get install -y fonts-nanum\n",
        "# !fc-cache -fv\n",
        "# !rm ~/.cache/matplotlib -rf"
      ],
      "metadata": {
        "id": "TZGdTkEqYqr4"
      },
      "execution_count": 103,
      "outputs": []
    },
    {
      "cell_type": "code",
      "source": [
        "from wordcloud import WordCloud\n",
        "wordCloud = WordCloud(background_color='white', font_path=\"/usr/share/fonts/truetype/nanum/NanumBarunGothic.ttf\")"
      ],
      "metadata": {
        "id": "c2vpfTrgZE5b"
      },
      "execution_count": 104,
      "outputs": []
    },
    {
      "cell_type": "code",
      "source": [
        "from collections import Counter\n",
        "noun_count = Counter(predict_topic)\n",
        "noun_count"
      ],
      "metadata": {
        "colab": {
          "base_uri": "https://localhost:8080/"
        },
        "id": "0m4XIkDBeMzT",
        "outputId": "5b8bb161-86f8-4eae-cf97-3e39efcc076c"
      },
      "execution_count": 105,
      "outputs": [
        {
          "output_type": "execute_result",
          "data": {
            "text/plain": [
              "Counter({'사회': 10, 'IT과학': 21, '경제': 7, '세계': 3, '생활문화': 1, '정치': 2})"
            ]
          },
          "metadata": {},
          "execution_count": 105
        }
      ]
    },
    {
      "cell_type": "markdown",
      "source": [
        "## WordCloud"
      ],
      "metadata": {
        "id": "Ckys_CrexyR-"
      }
    },
    {
      "cell_type": "code",
      "source": [
        "wordCloud.generate_from_frequencies(noun_count)"
      ],
      "metadata": {
        "colab": {
          "base_uri": "https://localhost:8080/"
        },
        "id": "3Kx4dFvvZEzz",
        "outputId": "cc28c4b1-8bed-4554-d802-49126512a1c9"
      },
      "execution_count": 106,
      "outputs": [
        {
          "output_type": "execute_result",
          "data": {
            "text/plain": [
              "<wordcloud.wordcloud.WordCloud at 0x7e12e5cf0700>"
            ]
          },
          "metadata": {},
          "execution_count": 106
        }
      ]
    },
    {
      "cell_type": "code",
      "source": [
        "wordCloud.words_"
      ],
      "metadata": {
        "colab": {
          "base_uri": "https://localhost:8080/"
        },
        "id": "69BpgBZwd9DB",
        "outputId": "5f639156-874b-492d-a7d3-82b4c681c5e1"
      },
      "execution_count": 107,
      "outputs": [
        {
          "output_type": "execute_result",
          "data": {
            "text/plain": [
              "{'IT과학': 1.0,\n",
              " '사회': 0.47619047619047616,\n",
              " '경제': 0.3333333333333333,\n",
              " '세계': 0.14285714285714285,\n",
              " '정치': 0.09523809523809523,\n",
              " '생활문화': 0.047619047619047616}"
            ]
          },
          "metadata": {},
          "execution_count": 107
        }
      ]
    },
    {
      "cell_type": "code",
      "source": [
        "import matplotlib.pyplot as plt\n",
        "plt.imshow(wordCloud)\n",
        "plt.axis('off')\n",
        "plt.show()"
      ],
      "metadata": {
        "colab": {
          "base_uri": "https://localhost:8080/",
          "height": 285
        },
        "id": "tT_wKdBseXIC",
        "outputId": "7b5a2d6a-f135-4e7b-e204-d2eee54f6c68"
      },
      "execution_count": 108,
      "outputs": [
        {
          "output_type": "display_data",
          "data": {
            "text/plain": [
              "<Figure size 640x480 with 1 Axes>"
            ],
            "image/png": "[encoded data removed]"
          },
          "metadata": {}
        }
      ]
    },
    {
      "cell_type": "code",
      "source": [],
      "metadata": {
        "id": "U2LcceiYeaCx"
      },
      "execution_count": 108,
      "outputs": []
    }
  ]
}