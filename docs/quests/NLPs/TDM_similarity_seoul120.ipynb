{
 "cells": [
  {
   "cell_type": "code",
   "execution_count": 2,
   "id": "481e3e47-0525-4d01-a23c-cfd796715d55",
   "metadata": {},
   "outputs": [
    {
     "data": {
      "text/html": [
       "<div>\n",
       "<style scoped>\n",
       "    .dataframe tbody tr th:only-of-type {\n",
       "        vertical-align: middle;\n",
       "    }\n",
       "\n",
       "    .dataframe tbody tr th {\n",
       "        vertical-align: top;\n",
       "    }\n",
       "\n",
       "    .dataframe thead th {\n",
       "        text-align: right;\n",
       "    }\n",
       "</style>\n",
       "<table border=\"1\" class=\"dataframe\">\n",
       "  <thead>\n",
       "    <tr style=\"text-align: right;\">\n",
       "      <th></th>\n",
       "      <th>번호</th>\n",
       "      <th>분류</th>\n",
       "      <th>제목</th>\n",
       "      <th>내용</th>\n",
       "      <th>내용번호</th>\n",
       "    </tr>\n",
       "  </thead>\n",
       "  <tbody>\n",
       "    <tr>\n",
       "      <th>0</th>\n",
       "      <td>2645</td>\n",
       "      <td>복지</td>\n",
       "      <td>아빠 육아휴직 장려금</td>\n",
       "      <td>아빠 육아휴직 장려금   업무개요  남성근로자의 육아휴직을 장려하고 양육에 따른 경...</td>\n",
       "      <td>23522464</td>\n",
       "    </tr>\n",
       "    <tr>\n",
       "      <th>1</th>\n",
       "      <td>2644</td>\n",
       "      <td>경제</td>\n",
       "      <td>[서울산업진흥원] 서울메이드란?</td>\n",
       "      <td>서울산업진흥원 서울메이드란 서울의 감성을 담은 다양하고 새로운 경험을 제공하기 위해...</td>\n",
       "      <td>23194045</td>\n",
       "    </tr>\n",
       "  </tbody>\n",
       "</table>\n",
       "</div>"
      ],
      "text/plain": [
       "     번호  분류                 제목  \\\n",
       "0  2645  복지        아빠 육아휴직 장려금   \n",
       "1  2644  경제  [서울산업진흥원] 서울메이드란?   \n",
       "\n",
       "                                                  내용      내용번호  \n",
       "0  아빠 육아휴직 장려금   업무개요  남성근로자의 육아휴직을 장려하고 양육에 따른 경...  23522464  \n",
       "1  서울산업진흥원 서울메이드란 서울의 감성을 담은 다양하고 새로운 경험을 제공하기 위해...  23194045  "
      ]
     },
     "execution_count": 2,
     "metadata": {},
     "output_type": "execute_result"
    }
   ],
   "source": [
    "import pandas as pd\n",
    "df_seoul = pd.read_csv(\"https://bit.ly/seoul-120-text-csv\")\n",
    "df_seoul[:2]"
   ]
  },
  {
   "cell_type": "markdown",
   "id": "660e0a1d-51e9-44bf-9983-6f6e91cbc77a",
   "metadata": {},
   "source": [
    "## 자연어 전처리"
   ]
  },
  {
   "cell_type": "code",
   "execution_count": 3,
   "id": "f12d61f2-b374-4596-8b41-0f18646ff305",
   "metadata": {},
   "outputs": [],
   "source": [
    "stopwords = []"
   ]
  },
  {
   "cell_type": "code",
   "execution_count": 8,
   "id": "373c0b86-921b-4577-959f-df30390a4d4f",
   "metadata": {},
   "outputs": [],
   "source": [
    "# 토크나이징 함수 정의\n",
    "from konlpy.tag import Okt\n",
    "okt = Okt()\n",
    "\n",
    "def tokenizer(raw, pos=[\"Noun\",\"Alpha\",\"Number\"], stopword=stopwords):\n",
    "    return [\n",
    "        word for word, tag in okt.pos(\n",
    "            raw, \n",
    "            stem=True    # stemming 바뀌나->바뀌다\n",
    "            )\n",
    "            if len(word) > 1 and tag in pos and word not in stopword\n",
    "\n",
    "    ]"
   ]
  },
  {
   "cell_type": "code",
   "execution_count": 9,
   "id": "ac4e70e3-6071-49bf-93f6-6a1eefcf5a5b",
   "metadata": {},
   "outputs": [],
   "source": [
    "# tokenizer\n",
    "from sklearn.feature_extraction.text import TfidfVectorizer\n",
    "tfidfVectorizer = TfidfVectorizer(tokenizer=tokenizer)"
   ]
  },
  {
   "cell_type": "code",
   "execution_count": 70,
   "id": "17e58e47-0d34-4c3d-8aee-ea7d3e44cbd1",
   "metadata": {},
   "outputs": [
    {
     "data": {
      "text/plain": [
       "array([[0., 0., 0., ..., 0., 0., 0.],\n",
       "       [0., 0., 0., ..., 0., 0., 0.]])"
      ]
     },
     "execution_count": 70,
     "metadata": {},
     "output_type": "execute_result"
    }
   ],
   "source": [
    "features = tfidfVectorizer.fit_transform(df_seoul['내용'])\n",
    "features.toarray()[:2]"
   ]
  },
  {
   "cell_type": "markdown",
   "id": "0cf8f1c6-f4d8-43cc-bdd4-95575f3b1c26",
   "metadata": {},
   "source": [
    "## 유사도확인"
   ]
  },
  {
   "cell_type": "code",
   "execution_count": 71,
   "id": "573fd961-4d95-42c3-8f09-6dd8a11f7cec",
   "metadata": {},
   "outputs": [],
   "source": [
    "from sklearn.metrics.pairwise import cosine_similarity"
   ]
  },
  {
   "cell_type": "code",
   "execution_count": 81,
   "id": "0adf6e2b-8f90-48bd-a8d4-38f571eb5838",
   "metadata": {},
   "outputs": [],
   "source": [
    "def similarity(x):\n",
    "    result_list = cosine_similarity(features.toarray()[x:x+1], features.toarray())\n",
    "    df_seoul['유사도'] = result_list[0]\n",
    "    return df_seoul.sort_values(by='유사도', ascending=False)"
   ]
  },
  {
   "cell_type": "code",
   "execution_count": 82,
   "id": "d05270f0-bb0a-4a10-ac11-fcb285589b63",
   "metadata": {},
   "outputs": [
    {
     "data": {
      "text/plain": [
       "873"
      ]
     },
     "execution_count": 82,
     "metadata": {},
     "output_type": "execute_result"
    }
   ],
   "source": [
    "df_seoul.query('번호==1772').index[0]"
   ]
  },
  {
   "cell_type": "code",
   "execution_count": 84,
   "id": "6d136e57-9a21-4e5a-acbc-70f496a2f2e6",
   "metadata": {},
   "outputs": [
    {
     "data": {
      "text/html": [
       "<div>\n",
       "<style scoped>\n",
       "    .dataframe tbody tr th:only-of-type {\n",
       "        vertical-align: middle;\n",
       "    }\n",
       "\n",
       "    .dataframe tbody tr th {\n",
       "        vertical-align: top;\n",
       "    }\n",
       "\n",
       "    .dataframe thead th {\n",
       "        text-align: right;\n",
       "    }\n",
       "</style>\n",
       "<table border=\"1\" class=\"dataframe\">\n",
       "  <thead>\n",
       "    <tr style=\"text-align: right;\">\n",
       "      <th></th>\n",
       "      <th>번호</th>\n",
       "      <th>분류</th>\n",
       "      <th>제목</th>\n",
       "      <th>내용</th>\n",
       "      <th>내용번호</th>\n",
       "      <th>유사도</th>\n",
       "    </tr>\n",
       "  </thead>\n",
       "  <tbody>\n",
       "    <tr>\n",
       "      <th>1772</th>\n",
       "      <td>873</td>\n",
       "      <td>경제</td>\n",
       "      <td>도시계획시설부지 재결신청 이후 진행단계는 어떤 과정을 거칩니까?</td>\n",
       "      <td>도시계획시설부지 재결신청 이후 진행단계는 어떤 과정을 거칩니까재결신청 이후 재결신청...</td>\n",
       "      <td>2897109</td>\n",
       "      <td>1.000000</td>\n",
       "    </tr>\n",
       "    <tr>\n",
       "      <th>1775</th>\n",
       "      <td>870</td>\n",
       "      <td>경제</td>\n",
       "      <td>도시계획시설 재결신청은 어떻게 합니까?</td>\n",
       "      <td>도시계획시설 재결신청은 어떻게 합니까재결신청은 소유자 및 사업시행자가 모두 할 수 ...</td>\n",
       "      <td>2897108</td>\n",
       "      <td>0.779276</td>\n",
       "    </tr>\n",
       "    <tr>\n",
       "      <th>1771</th>\n",
       "      <td>874</td>\n",
       "      <td>경제</td>\n",
       "      <td>도시계획시설부지의 재결과정에서는 의견을 제출할 수 없는지요?</td>\n",
       "      <td>도시계획시설부지의 재결과정에서는 의견을 제출할 수 없는지요재결신청 이후 신청서 및 ...</td>\n",
       "      <td>2897110</td>\n",
       "      <td>0.624567</td>\n",
       "    </tr>\n",
       "    <tr>\n",
       "      <th>1780</th>\n",
       "      <td>865</td>\n",
       "      <td>경제</td>\n",
       "      <td>도시계획시설에 편입된 보상물건의 재결신청 청구는 몇일 이내에 해야 하나요?</td>\n",
       "      <td>도시계획시설에 편입된 보상물건의 재결신청 청구는 몇일 이내에 해야 하나요사업인정 고...</td>\n",
       "      <td>2897106</td>\n",
       "      <td>0.584405</td>\n",
       "    </tr>\n",
       "    <tr>\n",
       "      <th>1768</th>\n",
       "      <td>877</td>\n",
       "      <td>경제</td>\n",
       "      <td>도시계획시설부지에 포함된 건물보상금액의 불만입니다.</td>\n",
       "      <td>도시계획시설부지에 포함된 건물보상금액의 불만입니다사업시행자로 하여금 재결신청을 청구...</td>\n",
       "      <td>2897114</td>\n",
       "      <td>0.558815</td>\n",
       "    </tr>\n",
       "    <tr>\n",
       "      <th>1767</th>\n",
       "      <td>878</td>\n",
       "      <td>경제</td>\n",
       "      <td>도시계획시설 부지의 이의재결이란 무엇입니까?</td>\n",
       "      <td>도시계획시설 부지의 이의재결이란 무엇입니까수용재결에 대한 이의가 있는 경우 중앙토지...</td>\n",
       "      <td>2897115</td>\n",
       "      <td>0.510080</td>\n",
       "    </tr>\n",
       "  </tbody>\n",
       "</table>\n",
       "</div>"
      ],
      "text/plain": [
       "       번호  분류                                         제목  \\\n",
       "1772  873  경제        도시계획시설부지 재결신청 이후 진행단계는 어떤 과정을 거칩니까?   \n",
       "1775  870  경제                      도시계획시설 재결신청은 어떻게 합니까?   \n",
       "1771  874  경제          도시계획시설부지의 재결과정에서는 의견을 제출할 수 없는지요?   \n",
       "1780  865  경제  도시계획시설에 편입된 보상물건의 재결신청 청구는 몇일 이내에 해야 하나요?   \n",
       "1768  877  경제               도시계획시설부지에 포함된 건물보상금액의 불만입니다.   \n",
       "1767  878  경제                   도시계획시설 부지의 이의재결이란 무엇입니까?   \n",
       "\n",
       "                                                     내용     내용번호       유사도  \n",
       "1772  도시계획시설부지 재결신청 이후 진행단계는 어떤 과정을 거칩니까재결신청 이후 재결신청...  2897109  1.000000  \n",
       "1775  도시계획시설 재결신청은 어떻게 합니까재결신청은 소유자 및 사업시행자가 모두 할 수 ...  2897108  0.779276  \n",
       "1771  도시계획시설부지의 재결과정에서는 의견을 제출할 수 없는지요재결신청 이후 신청서 및 ...  2897110  0.624567  \n",
       "1780  도시계획시설에 편입된 보상물건의 재결신청 청구는 몇일 이내에 해야 하나요사업인정 고...  2897106  0.584405  \n",
       "1768  도시계획시설부지에 포함된 건물보상금액의 불만입니다사업시행자로 하여금 재결신청을 청구...  2897114  0.558815  \n",
       "1767  도시계획시설 부지의 이의재결이란 무엇입니까수용재결에 대한 이의가 있는 경우 중앙토지...  2897115  0.510080  "
      ]
     },
     "execution_count": 84,
     "metadata": {},
     "output_type": "execute_result"
    }
   ],
   "source": [
    "\n",
    "similarity(1772).head(6) # 3번에 대한 유사도 검증"
   ]
  },
  {
   "cell_type": "code",
   "execution_count": null,
   "id": "3a2ebe79-e14e-4cf2-9d50-c18d939637d8",
   "metadata": {},
   "outputs": [],
   "source": []
  }
 ],
 "metadata": {
  "kernelspec": {
   "display_name": "Python 3 (ipykernel)",
   "language": "python",
   "name": "python3"
  },
  "language_info": {
   "codemirror_mode": {
    "name": "ipython",
    "version": 3
   },
   "file_extension": ".py",
   "mimetype": "text/x-python",
   "name": "python",
   "nbconvert_exporter": "python",
   "pygments_lexer": "ipython3",
   "version": "3.11.8"
  }
 },
 "nbformat": 4,
 "nbformat_minor": 5
}
