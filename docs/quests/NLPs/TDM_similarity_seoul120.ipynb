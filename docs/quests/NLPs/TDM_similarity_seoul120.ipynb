{
 "cells": [
  {
   "cell_type": "code",
   "execution_count": 2,
   "id": "481e3e47-0525-4d01-a23c-cfd796715d55",
   "metadata": {},
   "outputs": [
    {
     "data": {
      "text/html": [
       "<div>\n",
       "<style scoped>\n",
       "    .dataframe tbody tr th:only-of-type {\n",
       "        vertical-align: middle;\n",
       "    }\n",
       "\n",
       "    .dataframe tbody tr th {\n",
       "        vertical-align: top;\n",
       "    }\n",
       "\n",
       "    .dataframe thead th {\n",
       "        text-align: right;\n",
       "    }\n",
       "</style>\n",
       "<table border=\"1\" class=\"dataframe\">\n",
       "  <thead>\n",
       "    <tr style=\"text-align: right;\">\n",
       "      <th></th>\n",
       "      <th>번호</th>\n",
       "      <th>분류</th>\n",
       "      <th>제목</th>\n",
       "      <th>내용</th>\n",
       "      <th>내용번호</th>\n",
       "    </tr>\n",
       "  </thead>\n",
       "  <tbody>\n",
       "    <tr>\n",
       "      <th>0</th>\n",
       "      <td>2645</td>\n",
       "      <td>복지</td>\n",
       "      <td>아빠 육아휴직 장려금</td>\n",
       "      <td>아빠 육아휴직 장려금   업무개요  남성근로자의 육아휴직을 장려하고 양육에 따른 경...</td>\n",
       "      <td>23522464</td>\n",
       "    </tr>\n",
       "    <tr>\n",
       "      <th>1</th>\n",
       "      <td>2644</td>\n",
       "      <td>경제</td>\n",
       "      <td>[서울산업진흥원] 서울메이드란?</td>\n",
       "      <td>서울산업진흥원 서울메이드란 서울의 감성을 담은 다양하고 새로운 경험을 제공하기 위해...</td>\n",
       "      <td>23194045</td>\n",
       "    </tr>\n",
       "  </tbody>\n",
       "</table>\n",
       "</div>"
      ],
      "text/plain": [
       "     번호  분류                 제목  \\\n",
       "0  2645  복지        아빠 육아휴직 장려금   \n",
       "1  2644  경제  [서울산업진흥원] 서울메이드란?   \n",
       "\n",
       "                                                  내용      내용번호  \n",
       "0  아빠 육아휴직 장려금   업무개요  남성근로자의 육아휴직을 장려하고 양육에 따른 경...  23522464  \n",
       "1  서울산업진흥원 서울메이드란 서울의 감성을 담은 다양하고 새로운 경험을 제공하기 위해...  23194045  "
      ]
     },
     "execution_count": 2,
     "metadata": {},
     "output_type": "execute_result"
    }
   ],
   "source": [
    "import pandas as pd\n",
    "df_seoul = pd.read_csv(\"https://bit.ly/seoul-120-text-csv\")\n",
    "df_seoul[:2]"
   ]
  },
  {
   "cell_type": "markdown",
   "id": "660e0a1d-51e9-44bf-9983-6f6e91cbc77a",
   "metadata": {},
   "source": [
    "## 자연어 전처리"
   ]
  },
  {
   "cell_type": "code",
   "execution_count": 3,
   "id": "f12d61f2-b374-4596-8b41-0f18646ff305",
   "metadata": {},
   "outputs": [],
   "source": [
    "stopwords = []"
   ]
  },
  {
   "cell_type": "code",
   "execution_count": 8,
   "id": "373c0b86-921b-4577-959f-df30390a4d4f",
   "metadata": {},
   "outputs": [],
   "source": [
    "# 토크나이징 함수 정의\n",
    "from konlpy.tag import Okt\n",
    "okt = Okt()\n",
    "\n",
    "def tokenizer(raw, pos=[\"Noun\",\"Alpha\",\"Number\"], stopword=stopwords):\n",
    "    return [\n",
    "        word for word, tag in okt.pos(\n",
    "            raw, \n",
    "            stem=True    # stemming 바뀌나->바뀌다\n",
    "            )\n",
    "            if len(word) > 1 and tag in pos and word not in stopword\n",
    "\n",
    "    ]"
   ]
  },
  {
   "cell_type": "code",
   "execution_count": 9,
   "id": "ac4e70e3-6071-49bf-93f6-6a1eefcf5a5b",
   "metadata": {},
   "outputs": [],
   "source": [
    "# tokenizer\n",
    "from sklearn.feature_extraction.text import TfidfVectorizer\n",
    "tfidfVectorizer = TfidfVectorizer(tokenizer=tokenizer)"
   ]
  },
  {
   "cell_type": "code",
   "execution_count": 10,
   "id": "17e58e47-0d34-4c3d-8aee-ea7d3e44cbd1",
   "metadata": {},
   "outputs": [
    {
     "data": {
      "text/plain": [
       "array([[0., 0., 0., ..., 0., 0., 0.],\n",
       "       [0., 0., 0., ..., 0., 0., 0.]])"
      ]
     },
     "execution_count": 10,
     "metadata": {},
     "output_type": "execute_result"
    }
   ],
   "source": [
    "features = tfidfVectorizer.fit_transform(df_seoul['제목'])\n",
    "features.toarray()[:2]"
   ]
  },
  {
   "cell_type": "markdown",
   "id": "0cf8f1c6-f4d8-43cc-bdd4-95575f3b1c26",
   "metadata": {},
   "source": [
    "## 유사도확인"
   ]
  },
  {
   "cell_type": "code",
   "execution_count": 12,
   "id": "573fd961-4d95-42c3-8f09-6dd8a11f7cec",
   "metadata": {},
   "outputs": [],
   "source": [
    "from sklearn.metrics.pairwise import cosine_similarity"
   ]
  },
  {
   "cell_type": "code",
   "execution_count": 64,
   "id": "0adf6e2b-8f90-48bd-a8d4-38f571eb5838",
   "metadata": {},
   "outputs": [],
   "source": [
    "def similarity(x):\n",
    "    result_list = cosine_similarity(features.toarray()[x:x+1], features.toarray())\n",
    "    df_seoul['유사도'] = result_list[0]\n",
    "    return df_seoul.sort_values(by='유사도', ascending=False)"
   ]
  },
  {
   "cell_type": "code",
   "execution_count": 68,
   "id": "6d136e57-9a21-4e5a-acbc-70f496a2f2e6",
   "metadata": {},
   "outputs": [
    {
     "data": {
      "text/html": [
       "<div>\n",
       "<style scoped>\n",
       "    .dataframe tbody tr th:only-of-type {\n",
       "        vertical-align: middle;\n",
       "    }\n",
       "\n",
       "    .dataframe tbody tr th {\n",
       "        vertical-align: top;\n",
       "    }\n",
       "\n",
       "    .dataframe thead th {\n",
       "        text-align: right;\n",
       "    }\n",
       "</style>\n",
       "<table border=\"1\" class=\"dataframe\">\n",
       "  <thead>\n",
       "    <tr style=\"text-align: right;\">\n",
       "      <th></th>\n",
       "      <th>번호</th>\n",
       "      <th>분류</th>\n",
       "      <th>제목</th>\n",
       "      <th>내용</th>\n",
       "      <th>내용번호</th>\n",
       "      <th>유사도</th>\n",
       "    </tr>\n",
       "  </thead>\n",
       "  <tbody>\n",
       "    <tr>\n",
       "      <th>0</th>\n",
       "      <td>2645</td>\n",
       "      <td>복지</td>\n",
       "      <td>아빠 육아휴직 장려금</td>\n",
       "      <td>아빠 육아휴직 장려금   업무개요  남성근로자의 육아휴직을 장려하고 양육에 따른 경...</td>\n",
       "      <td>23522464</td>\n",
       "      <td>1.000000</td>\n",
       "    </tr>\n",
       "    <tr>\n",
       "      <th>1386</th>\n",
       "      <td>1259</td>\n",
       "      <td>행정</td>\n",
       "      <td>육아휴직수당은 얼마인가요?</td>\n",
       "      <td>육아휴직수당은 얼마인가요자녀을 양육하기 위하여 일 이상 휴직한 남녀공무원이 대상이며...</td>\n",
       "      <td>2896657</td>\n",
       "      <td>0.375975</td>\n",
       "    </tr>\n",
       "    <tr>\n",
       "      <th>72</th>\n",
       "      <td>2573</td>\n",
       "      <td>복지</td>\n",
       "      <td>아이조아 아빠교실, 아이조아 놀이교실</td>\n",
       "      <td>아이조아 아빠교실 아이조아 놀이교실           업무개요   다양한 교육과 체...</td>\n",
       "      <td>4369620</td>\n",
       "      <td>0.197549</td>\n",
       "    </tr>\n",
       "    <tr>\n",
       "      <th>1757</th>\n",
       "      <td>888</td>\n",
       "      <td>행정</td>\n",
       "      <td>건축과에 무단증축을 민원을 제기했는데 민원인의 인적사항을 요구합니다. 꼭 필요한 것...</td>\n",
       "      <td>건축과에 무단증축을 민원을 제기했는데 민원인의 인적사항을 요구합니다 꼭 필요한 것인...</td>\n",
       "      <td>2895760</td>\n",
       "      <td>0.000000</td>\n",
       "    </tr>\n",
       "    <tr>\n",
       "      <th>1758</th>\n",
       "      <td>887</td>\n",
       "      <td>복지</td>\n",
       "      <td>광진구 성폭력 예방교육을 하고 있나요?</td>\n",
       "      <td>광진구 성폭력 예방교육을 하고 있나요광진구청 가정복지과 여성정책팀에서는 매년 학기 ...</td>\n",
       "      <td>2897798</td>\n",
       "      <td>0.000000</td>\n",
       "    </tr>\n",
       "    <tr>\n",
       "      <th>...</th>\n",
       "      <td>...</td>\n",
       "      <td>...</td>\n",
       "      <td>...</td>\n",
       "      <td>...</td>\n",
       "      <td>...</td>\n",
       "      <td>...</td>\n",
       "    </tr>\n",
       "    <tr>\n",
       "      <th>885</th>\n",
       "      <td>1760</td>\n",
       "      <td>경제</td>\n",
       "      <td>아파트 입주자 등 과반수의 동의를 얻어 개정된 관리규약에 개정시기가 명기되지 않은 ...</td>\n",
       "      <td>아파트 입주자 등 과반수의 동의를 얻어 개정된 관리규약에 개정시기가 명기되지 않은 ...</td>\n",
       "      <td>2896144</td>\n",
       "      <td>0.000000</td>\n",
       "    </tr>\n",
       "    <tr>\n",
       "      <th>886</th>\n",
       "      <td>1759</td>\n",
       "      <td>행정</td>\n",
       "      <td>인터넷전화(IPT)시스템 개통일은 언제인가요?</td>\n",
       "      <td>인터넷전화시스템 개통일은 언제인가요중랑구 인터넷전화 개통은 년 월 일입니다</td>\n",
       "      <td>2895585</td>\n",
       "      <td>0.000000</td>\n",
       "    </tr>\n",
       "    <tr>\n",
       "      <th>887</th>\n",
       "      <td>1758</td>\n",
       "      <td>경제</td>\n",
       "      <td>성동구치소 이전 ?</td>\n",
       "      <td>성동구치소 이전 성동구치소는 서울동부구치소로 이름을 바꿔 송파구 문정 법조단지 신축...</td>\n",
       "      <td>2896772</td>\n",
       "      <td>0.000000</td>\n",
       "    </tr>\n",
       "    <tr>\n",
       "      <th>888</th>\n",
       "      <td>1757</td>\n",
       "      <td>행정</td>\n",
       "      <td>상속등기를 위하여 필요한 사망한 등기명의인의 등록사항별 증명서(‘제적등본’ 포함) ...</td>\n",
       "      <td>상속등기를 위하여 필요한 사망한 등기명의인의 등록사항별 증명서제적등본 포함 및 상속...</td>\n",
       "      <td>2896367</td>\n",
       "      <td>0.000000</td>\n",
       "    </tr>\n",
       "    <tr>\n",
       "      <th>878</th>\n",
       "      <td>1767</td>\n",
       "      <td>행정</td>\n",
       "      <td>사회단체보조금 지원사업중 교통. 안전문화구축사업의 세부사업은?</td>\n",
       "      <td>사회단체보조금 지원사업중 교통 안전문화구축사업의 세부사업은 선진교통문화 운동 승용차...</td>\n",
       "      <td>2898092</td>\n",
       "      <td>0.000000</td>\n",
       "    </tr>\n",
       "  </tbody>\n",
       "</table>\n",
       "<p>2645 rows × 6 columns</p>\n",
       "</div>"
      ],
      "text/plain": [
       "        번호  분류                                                 제목  \\\n",
       "0     2645  복지                                        아빠 육아휴직 장려금   \n",
       "1386  1259  행정                                     육아휴직수당은 얼마인가요?   \n",
       "72    2573  복지                               아이조아 아빠교실, 아이조아 놀이교실   \n",
       "1757   888  행정  건축과에 무단증축을 민원을 제기했는데 민원인의 인적사항을 요구합니다. 꼭 필요한 것...   \n",
       "1758   887  복지                              광진구 성폭력 예방교육을 하고 있나요?   \n",
       "...    ...  ..                                                ...   \n",
       "885   1760  경제  아파트 입주자 등 과반수의 동의를 얻어 개정된 관리규약에 개정시기가 명기되지 않은 ...   \n",
       "886   1759  행정                          인터넷전화(IPT)시스템 개통일은 언제인가요?   \n",
       "887   1758  경제                                         성동구치소 이전 ?   \n",
       "888   1757  행정  상속등기를 위하여 필요한 사망한 등기명의인의 등록사항별 증명서(‘제적등본’ 포함) ...   \n",
       "878   1767  행정                 사회단체보조금 지원사업중 교통. 안전문화구축사업의 세부사업은?   \n",
       "\n",
       "                                                     내용      내용번호       유사도  \n",
       "0     아빠 육아휴직 장려금   업무개요  남성근로자의 육아휴직을 장려하고 양육에 따른 경...  23522464  1.000000  \n",
       "1386  육아휴직수당은 얼마인가요자녀을 양육하기 위하여 일 이상 휴직한 남녀공무원이 대상이며...   2896657  0.375975  \n",
       "72    아이조아 아빠교실 아이조아 놀이교실           업무개요   다양한 교육과 체...   4369620  0.197549  \n",
       "1757  건축과에 무단증축을 민원을 제기했는데 민원인의 인적사항을 요구합니다 꼭 필요한 것인...   2895760  0.000000  \n",
       "1758  광진구 성폭력 예방교육을 하고 있나요광진구청 가정복지과 여성정책팀에서는 매년 학기 ...   2897798  0.000000  \n",
       "...                                                 ...       ...       ...  \n",
       "885   아파트 입주자 등 과반수의 동의를 얻어 개정된 관리규약에 개정시기가 명기되지 않은 ...   2896144  0.000000  \n",
       "886          인터넷전화시스템 개통일은 언제인가요중랑구 인터넷전화 개통은 년 월 일입니다    2895585  0.000000  \n",
       "887   성동구치소 이전 성동구치소는 서울동부구치소로 이름을 바꿔 송파구 문정 법조단지 신축...   2896772  0.000000  \n",
       "888   상속등기를 위하여 필요한 사망한 등기명의인의 등록사항별 증명서제적등본 포함 및 상속...   2896367  0.000000  \n",
       "878   사회단체보조금 지원사업중 교통 안전문화구축사업의 세부사업은 선진교통문화 운동 승용차...   2898092  0.000000  \n",
       "\n",
       "[2645 rows x 6 columns]"
      ]
     },
     "execution_count": 68,
     "metadata": {},
     "output_type": "execute_result"
    }
   ],
   "source": [
    "similarity(0) # 3번에 대한 유사도 검증"
   ]
  },
  {
   "cell_type": "code",
   "execution_count": null,
   "id": "3a2ebe79-e14e-4cf2-9d50-c18d939637d8",
   "metadata": {},
   "outputs": [],
   "source": []
  }
 ],
 "metadata": {
  "kernelspec": {
   "display_name": "Python 3 (ipykernel)",
   "language": "python",
   "name": "python3"
  },
  "language_info": {
   "codemirror_mode": {
    "name": "ipython",
    "version": 3
   },
   "file_extension": ".py",
   "mimetype": "text/x-python",
   "name": "python",
   "nbconvert_exporter": "python",
   "pygments_lexer": "ipython3",
   "version": "3.11.8"
  }
 },
 "nbformat": 4,
 "nbformat_minor": 5
}
